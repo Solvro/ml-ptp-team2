{
 "cells": [
  {
   "cell_type": "markdown",
   "metadata": {},
   "source": [
    "### EDA"
   ]
  },
  {
   "cell_type": "code",
   "execution_count": 19,
   "metadata": {},
   "outputs": [],
   "source": [
    "import warnings\n",
    "\n",
    "from pathlib import Path\n",
    "from typing import Literal\n",
    "\n",
    "import nibabel as nib\n",
    "import numpy as np\n",
    "import pandas as pd\n",
    "\n",
    "from tqdm import tqdm\n",
    "from mpl_toolkits.mplot3d import Axes3D\n",
    "import matplotlib.pyplot as plt\n",
    "import numpy as np\n",
    "import cv2"
   ]
  },
  {
   "cell_type": "code",
   "execution_count": 20,
   "metadata": {},
   "outputs": [],
   "source": [
    "data_dir = Path(\"../data\")\n",
    "train_generated_dir = data_dir / \"generated_part1_nii_gz\"\n",
    "train_real_dir = data_dir / 'real_nii_gz'\n",
    "test_dir = data_dir / \"patch-the-planet-test-data\""
   ]
  },
  {
   "cell_type": "code",
   "execution_count": 21,
   "metadata": {},
   "outputs": [],
   "source": [
    "train_generated_data = [nib.load(path) for path in list(train_generated_dir.glob(\"*.nii.gz\"))]\n",
    "train_real_data = [nib.load(path) for path in list(train_real_dir.glob(\"*.nii.gz\"))]\n",
    "test_data = [nib.load(path) for path in list(test_dir.glob(\"*.nii.gz\"))]"
   ]
  },
  {
   "cell_type": "markdown",
   "metadata": {},
   "source": [
    "Generated Image\n",
    "\n",
    "\n",
    "<img style=\"width: 50%;\" src=\"../images/slicer_generated.png\">\n",
    "<img style=\"width: 50%;\" src=\"../images/slicer_generated_2.png\">\n",
    "\n",
    "Real Image 1\n",
    "\n",
    "<img style=\"width: 50%;\" src=\"../images/real_data.png\">\n",
    "\n",
    "Real Image (other volume)\n",
    "\n",
    "<img style=\"width: 50%;\" src=\"../images/real_data_other.png\">\n",
    "\n",
    "# EDA - Exploratory Data Analysis\n",
    "\n",
    "## Co warto zrobić?\n",
    "\n",
    "* Przeprowadźcie analizę wymiarów zestawu danych, uwzględniając liczbę woluminów sejsmicznych oraz charakterystyki przestrzenne każdego woluminu.\n",
    "* Może warto porównać dane wygenerowane z prawdziwymi danymi, żeby zrozumieć jakie są różnice między nimi. Dla przykładu jakieś basic statystyki jak takie jak średnia, mediana i odchylenie standardowe. \n",
    "* Można wygerenerować ilustracyjne przekroju i zobaczyć jak się mają ich statystyki do całego woluminu. Może lepiej brać górne części woluminów, a może dolne lub środkowe lub jeszcze jakąś inną kombinację.\n",
    "* Można ocenić standardowe 25% brakujących sekcji i zbadaj, jak wpływa on na ogólną strukturę woluminów sejsmicznych.\n",
    "* Można poszukać jakiś współzależności pomiędzy woluminami prawdziwymi i wygenerowanymi.\n",
    "* Przede wszystkim poogladajcie sobie te dane w Slicer i zobaczcie jak wyglądają. Zwróćcie uwagę na różnice w teksturze, kształcie, jasności, itp. Te różnice mogą być ważne w kontekście problemu, który chcecie rozwiązać, więc warto się zastanowić jakie cechy są ważne, bo te woluminy w przypadku prawdziwych danych mogą być bardzo różne i zresztą są.\n",
    "* Weźcie sobie na przykład jakieś charakterystyczne slicy w tych woluminach i zróbcie histogramy. \n",
    "* Nie musicie patrzyć jaki jest spacing w tych woluminach i jaki shape mają. Te pliki początkowo było w formacie .npy i Wojtek dla wygody zamienił je na .nii.gz wiec nie będziecie mieli informacji o spacingu, a shape jest chyba taki sam dla wszystkich woluminów.\n"
   ]
  },
  {
   "cell_type": "markdown",
   "metadata": {},
   "source": []
  }
 ],
 "metadata": {
  "kernelspec": {
   "display_name": "nn_at",
   "language": "python",
   "name": "python3"
  },
  "language_info": {
   "codemirror_mode": {
    "name": "ipython",
    "version": 3
   },
   "file_extension": ".py",
   "mimetype": "text/x-python",
   "name": "python",
   "nbconvert_exporter": "python",
   "pygments_lexer": "ipython3",
   "version": "3.10.0"
  }
 },
 "nbformat": 4,
 "nbformat_minor": 2
}
