{
 "cells": [
  {
   "cell_type": "code",
   "execution_count": 1,
   "id": "initial_id",
   "metadata": {
    "collapsed": true,
    "ExecuteTime": {
     "end_time": "2024-06-16T20:29:47.747280800Z",
     "start_time": "2024-06-16T20:29:35.792220100Z"
    }
   },
   "outputs": [],
   "source": [
    "%matplotlib inline\n",
    "from src.ptp.models.gan_3d.gan3d import Generator\n",
    "from src.ptp.models.gan_3d.discriminator import Discriminator\n",
    "from src.ptp.models.gan_3d.gan3d import GAN3D\n",
    "from src.ptp.evaluation.visualization import visualize_slices, visualize_volumes\n",
    "from pathlib import Path\n",
    "\n",
    "import matplotlib.pyplot as plt\n",
    "import nibabel as nib  \n",
    "import numpy as np\n",
    "\n",
    "from monai.data import MetaTensor\n",
    "import pytorch_lightning as pl\n",
    "import torch\n",
    "from torch import nn\n",
    "import os"
   ]
  },
  {
   "cell_type": "code",
   "outputs": [],
   "source": [
    "DATA_DIR = Path('../data/generated_part1_nii_gz')\n",
    "TARGET_DATA_DIR = DATA_DIR\n",
    "INPUT_DIR = Path('../data')\n",
    "MODELS_DIR = INPUT_DIR / 'models'\n",
    "TRAINING_DIR = INPUT_DIR / 'training'\n",
    "os.makedirs(TRAINING_DIR, exist_ok=True)\n",
    "os.makedirs(MODELS_DIR, exist_ok=True)"
   ],
   "metadata": {
    "collapsed": false,
    "ExecuteTime": {
     "end_time": "2024-06-16T20:30:42.978674700Z",
     "start_time": "2024-06-16T20:30:42.970686100Z"
    }
   },
   "id": "ebccca9592b1d7fa",
   "execution_count": 3
  },
  {
   "cell_type": "code",
   "outputs": [],
   "source": [
    "percentile = 5\n",
    "n_critic = 4"
   ],
   "metadata": {
    "collapsed": false,
    "ExecuteTime": {
     "end_time": "2024-06-16T20:32:23.414898600Z",
     "start_time": "2024-06-16T20:32:23.400885Z"
    }
   },
   "id": "2ae2dae243643cd2",
   "execution_count": 4
  },
  {
   "cell_type": "code",
   "outputs": [],
   "source": [
    "gan = GAN3D(target_data_dir=TARGET_DATA_DIR, percentile=percentile, n_critic=n_critic)"
   ],
   "metadata": {
    "collapsed": false,
    "ExecuteTime": {
     "end_time": "2024-06-16T20:32:24.687356300Z",
     "start_time": "2024-06-16T20:32:24.643903500Z"
    }
   },
   "id": "b71cf7510633c0a",
   "execution_count": 5
  },
  {
   "cell_type": "code",
   "outputs": [],
   "source": [],
   "metadata": {
    "collapsed": false
   },
   "id": "1d0ce889c5aef68b"
  },
  {
   "cell_type": "code",
   "outputs": [
    {
     "name": "stderr",
     "output_type": "stream",
     "text": [
      "GPU available: False, used: False\n",
      "TPU available: False, using: 0 TPU cores\n",
      "HPU available: False, using: 0 HPUs\n",
      "Running in `fast_dev_run` mode: will run the requested loop using 1 batch(es). Logging and checkpointing is suppressed.\n",
      "\n",
      "  | Name | Type          | Params | Mode \n",
      "-----------------------------------------------\n",
      "0 | G    | Generator     | 587 K  | train\n",
      "1 | D    | Discriminator | 410 K  | train\n",
      "-----------------------------------------------\n",
      "997 K     Trainable params\n",
      "0         Non-trainable params\n",
      "997 K     Total params\n",
      "3.988     Total estimated model params size (MB)\n",
      "Consider setting `persistent_workers=True` in 'train_dataloader' to speed up the dataloader worker initialization.\n",
      "Consider setting `persistent_workers=True` in 'val_dataloader' to speed up the dataloader worker initialization.\n"
     ]
    },
    {
     "name": "stdout",
     "output_type": "stream",
     "text": [
      "Epoch 0: 100%|██████████| 1/1 [01:08<00:00,  0.01it/s, g_loss_step=2.170, d_loss_step=0.590, n_step_step=0.000]\n",
      "Validation: |          | 0/? [00:00<?, ?it/s]\u001B[A\n",
      "Validation:   0%|          | 0/1 [00:00<?, ?it/s]\u001B[A\n",
      "Validation DataLoader 0:   0%|          | 0/1 [00:00<?, ?it/s]\u001B[A\n",
      "Validation DataLoader 0: 100%|██████████| 1/1 [00:04<00:00,  0.20it/s]\u001B[A\n",
      "Epoch 0: 100%|██████████| 1/1 [01:40<00:00,  0.01it/s, g_loss_step=2.170, d_loss_step=0.590, n_step_step=0.000, val_g_loss=0.424, val_d_loss=0.658, val_loss=1.080, g_loss_epoch=2.170, d_loss_epoch=0.590, n_step_epoch=0.000]"
     ]
    },
    {
     "name": "stderr",
     "output_type": "stream",
     "text": [
      "`Trainer.fit` stopped: `max_steps=1` reached.\n"
     ]
    },
    {
     "name": "stdout",
     "output_type": "stream",
     "text": [
      "Epoch 0: 100%|██████████| 1/1 [01:40<00:00,  0.01it/s, g_loss_step=2.170, d_loss_step=0.590, n_step_step=0.000, val_g_loss=0.424, val_d_loss=0.658, val_loss=1.080, g_loss_epoch=2.170, d_loss_epoch=0.590, n_step_epoch=0.000]\n"
     ]
    }
   ],
   "source": [
    "max_epochs = 10\n",
    "\n",
    "checkpoint_dir = TRAINING_DIR / 'test-gan'\n",
    "\n",
    "checkpoint_callback = pl.callbacks.ModelCheckpoint(dirpath=checkpoint_dir, filename='{epoch}-{val_loss:.2f}-{train_loss:.2f}', \n",
    "                                      monitor='val_loss', save_last=True) \n",
    "early_stopping = pl.callbacks.EarlyStopping(monitor='val_loss', verbose=True)\n",
    "\n",
    "trainer = pl.Trainer(\n",
    "    max_epochs=max_epochs,\n",
    "    default_root_dir=checkpoint_dir,\n",
    "    callbacks=[checkpoint_callback],\n",
    "    fast_dev_run=True\n",
    ")\n",
    "\n",
    "trainer.fit(gan)"
   ],
   "metadata": {
    "collapsed": false,
    "ExecuteTime": {
     "end_time": "2024-06-16T20:34:15.418466Z",
     "start_time": "2024-06-16T20:32:30.633103100Z"
    }
   },
   "id": "d03964a71084492b",
   "execution_count": 6
  },
  {
   "cell_type": "code",
   "outputs": [],
   "source": [],
   "metadata": {
    "collapsed": false
   },
   "id": "b2737287195adc66"
  }
 ],
 "metadata": {
  "kernelspec": {
   "display_name": "Python 3",
   "language": "python",
   "name": "python3"
  },
  "language_info": {
   "codemirror_mode": {
    "name": "ipython",
    "version": 2
   },
   "file_extension": ".py",
   "mimetype": "text/x-python",
   "name": "python",
   "nbconvert_exporter": "python",
   "pygments_lexer": "ipython2",
   "version": "2.7.6"
  }
 },
 "nbformat": 4,
 "nbformat_minor": 5
}
